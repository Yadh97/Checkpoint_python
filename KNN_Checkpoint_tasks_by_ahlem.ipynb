{
  "cells": [
    {
      "cell_type": "code",
      "execution_count": 1,
      "metadata": {
        "id": "8LOkYk8A1rdC"
      },
      "outputs": [],
      "source": [
        "#Librarires import\n",
        "import csv\n",
        "import random\n",
        "import math"
      ]
    },
    {
      "cell_type": "markdown",
      "metadata": {
        "id": "JglQjJ_8UCHC"
      },
      "source": [
        "# 1.Load Data"
      ]
    },
    {
      "cell_type": "markdown",
      "metadata": {
        "id": "0vrZfmuAT_bh"
      },
      "source": [
        "\n",
        "The first thing we need to do is load our data file. \n"
      ]
    },
    {
      "cell_type": "code",
      "execution_count": 2,
      "metadata": {
        "id": "ClnKPHpOT57i",
        "colab": {
          "base_uri": "https://localhost:8080/"
        },
        "outputId": "79efa464-ef59-4c4b-b908-5c6ae33b1f91"
      },
      "outputs": [
        {
          "output_type": "stream",
          "name": "stdout",
          "text": [
            "5.1, 3.5, 1.4, 0.2, Iris-setosa\n",
            "4.9, 3.0, 1.4, 0.2, Iris-setosa\n",
            "4.7, 3.2, 1.3, 0.2, Iris-setosa\n",
            "4.6, 3.1, 1.5, 0.2, Iris-setosa\n",
            "5.0, 3.6, 1.4, 0.2, Iris-setosa\n",
            "5.4, 3.9, 1.7, 0.4, Iris-setosa\n",
            "4.6, 3.4, 1.4, 0.3, Iris-setosa\n",
            "5.0, 3.4, 1.5, 0.2, Iris-setosa\n",
            "4.4, 2.9, 1.4, 0.2, Iris-setosa\n",
            "4.9, 3.1, 1.5, 0.1, Iris-setosa\n",
            "5.4, 3.7, 1.5, 0.2, Iris-setosa\n",
            "4.8, 3.4, 1.6, 0.2, Iris-setosa\n",
            "4.8, 3.0, 1.4, 0.1, Iris-setosa\n",
            "4.3, 3.0, 1.1, 0.1, Iris-setosa\n",
            "5.8, 4.0, 1.2, 0.2, Iris-setosa\n",
            "5.7, 4.4, 1.5, 0.4, Iris-setosa\n",
            "5.4, 3.9, 1.3, 0.4, Iris-setosa\n",
            "5.1, 3.5, 1.4, 0.3, Iris-setosa\n",
            "5.7, 3.8, 1.7, 0.3, Iris-setosa\n",
            "5.1, 3.8, 1.5, 0.3, Iris-setosa\n",
            "5.4, 3.4, 1.7, 0.2, Iris-setosa\n",
            "5.1, 3.7, 1.5, 0.4, Iris-setosa\n",
            "4.6, 3.6, 1.0, 0.2, Iris-setosa\n",
            "5.1, 3.3, 1.7, 0.5, Iris-setosa\n",
            "4.8, 3.4, 1.9, 0.2, Iris-setosa\n",
            "5.0, 3.0, 1.6, 0.2, Iris-setosa\n",
            "5.0, 3.4, 1.6, 0.4, Iris-setosa\n",
            "5.2, 3.5, 1.5, 0.2, Iris-setosa\n",
            "5.2, 3.4, 1.4, 0.2, Iris-setosa\n",
            "4.7, 3.2, 1.6, 0.2, Iris-setosa\n",
            "4.8, 3.1, 1.6, 0.2, Iris-setosa\n",
            "5.4, 3.4, 1.5, 0.4, Iris-setosa\n",
            "5.2, 4.1, 1.5, 0.1, Iris-setosa\n",
            "5.5, 4.2, 1.4, 0.2, Iris-setosa\n",
            "4.9, 3.1, 1.5, 0.1, Iris-setosa\n",
            "5.0, 3.2, 1.2, 0.2, Iris-setosa\n",
            "5.5, 3.5, 1.3, 0.2, Iris-setosa\n",
            "4.9, 3.1, 1.5, 0.1, Iris-setosa\n",
            "4.4, 3.0, 1.3, 0.2, Iris-setosa\n",
            "5.1, 3.4, 1.5, 0.2, Iris-setosa\n",
            "5.0, 3.5, 1.3, 0.3, Iris-setosa\n",
            "4.5, 2.3, 1.3, 0.3, Iris-setosa\n",
            "4.4, 3.2, 1.3, 0.2, Iris-setosa\n",
            "5.0, 3.5, 1.6, 0.6, Iris-setosa\n",
            "5.1, 3.8, 1.9, 0.4, Iris-setosa\n",
            "4.8, 3.0, 1.4, 0.3, Iris-setosa\n",
            "5.1, 3.8, 1.6, 0.2, Iris-setosa\n",
            "4.6, 3.2, 1.4, 0.2, Iris-setosa\n",
            "5.3, 3.7, 1.5, 0.2, Iris-setosa\n",
            "5.0, 3.3, 1.4, 0.2, Iris-setosa\n",
            "7.0, 3.2, 4.7, 1.4, Iris-versicolor\n",
            "6.4, 3.2, 4.5, 1.5, Iris-versicolor\n",
            "6.9, 3.1, 4.9, 1.5, Iris-versicolor\n",
            "5.5, 2.3, 4.0, 1.3, Iris-versicolor\n",
            "6.5, 2.8, 4.6, 1.5, Iris-versicolor\n",
            "5.7, 2.8, 4.5, 1.3, Iris-versicolor\n",
            "6.3, 3.3, 4.7, 1.6, Iris-versicolor\n",
            "4.9, 2.4, 3.3, 1.0, Iris-versicolor\n",
            "6.6, 2.9, 4.6, 1.3, Iris-versicolor\n",
            "5.2, 2.7, 3.9, 1.4, Iris-versicolor\n",
            "5.0, 2.0, 3.5, 1.0, Iris-versicolor\n",
            "5.9, 3.0, 4.2, 1.5, Iris-versicolor\n",
            "6.0, 2.2, 4.0, 1.0, Iris-versicolor\n",
            "6.1, 2.9, 4.7, 1.4, Iris-versicolor\n",
            "5.6, 2.9, 3.6, 1.3, Iris-versicolor\n",
            "6.7, 3.1, 4.4, 1.4, Iris-versicolor\n",
            "5.6, 3.0, 4.5, 1.5, Iris-versicolor\n",
            "5.8, 2.7, 4.1, 1.0, Iris-versicolor\n",
            "6.2, 2.2, 4.5, 1.5, Iris-versicolor\n",
            "5.6, 2.5, 3.9, 1.1, Iris-versicolor\n",
            "5.9, 3.2, 4.8, 1.8, Iris-versicolor\n",
            "6.1, 2.8, 4.0, 1.3, Iris-versicolor\n",
            "6.3, 2.5, 4.9, 1.5, Iris-versicolor\n",
            "6.1, 2.8, 4.7, 1.2, Iris-versicolor\n",
            "6.4, 2.9, 4.3, 1.3, Iris-versicolor\n",
            "6.6, 3.0, 4.4, 1.4, Iris-versicolor\n",
            "6.8, 2.8, 4.8, 1.4, Iris-versicolor\n",
            "6.7, 3.0, 5.0, 1.7, Iris-versicolor\n",
            "6.0, 2.9, 4.5, 1.5, Iris-versicolor\n",
            "5.7, 2.6, 3.5, 1.0, Iris-versicolor\n",
            "5.5, 2.4, 3.8, 1.1, Iris-versicolor\n",
            "5.5, 2.4, 3.7, 1.0, Iris-versicolor\n",
            "5.8, 2.7, 3.9, 1.2, Iris-versicolor\n",
            "6.0, 2.7, 5.1, 1.6, Iris-versicolor\n",
            "5.4, 3.0, 4.5, 1.5, Iris-versicolor\n",
            "6.0, 3.4, 4.5, 1.6, Iris-versicolor\n",
            "6.7, 3.1, 4.7, 1.5, Iris-versicolor\n",
            "6.3, 2.3, 4.4, 1.3, Iris-versicolor\n",
            "5.6, 3.0, 4.1, 1.3, Iris-versicolor\n",
            "5.5, 2.5, 4.0, 1.3, Iris-versicolor\n",
            "5.5, 2.6, 4.4, 1.2, Iris-versicolor\n",
            "6.1, 3.0, 4.6, 1.4, Iris-versicolor\n",
            "5.8, 2.6, 4.0, 1.2, Iris-versicolor\n",
            "5.0, 2.3, 3.3, 1.0, Iris-versicolor\n",
            "5.6, 2.7, 4.2, 1.3, Iris-versicolor\n",
            "5.7, 3.0, 4.2, 1.2, Iris-versicolor\n",
            "5.7, 2.9, 4.2, 1.3, Iris-versicolor\n",
            "6.2, 2.9, 4.3, 1.3, Iris-versicolor\n",
            "5.1, 2.5, 3.0, 1.1, Iris-versicolor\n",
            "5.7, 2.8, 4.1, 1.3, Iris-versicolor\n",
            "6.3, 3.3, 6.0, 2.5, Iris-virginica\n",
            "5.8, 2.7, 5.1, 1.9, Iris-virginica\n",
            "7.1, 3.0, 5.9, 2.1, Iris-virginica\n",
            "6.3, 2.9, 5.6, 1.8, Iris-virginica\n",
            "6.5, 3.0, 5.8, 2.2, Iris-virginica\n",
            "7.6, 3.0, 6.6, 2.1, Iris-virginica\n",
            "4.9, 2.5, 4.5, 1.7, Iris-virginica\n",
            "7.3, 2.9, 6.3, 1.8, Iris-virginica\n",
            "6.7, 2.5, 5.8, 1.8, Iris-virginica\n",
            "7.2, 3.6, 6.1, 2.5, Iris-virginica\n",
            "6.5, 3.2, 5.1, 2.0, Iris-virginica\n",
            "6.4, 2.7, 5.3, 1.9, Iris-virginica\n",
            "6.8, 3.0, 5.5, 2.1, Iris-virginica\n",
            "5.7, 2.5, 5.0, 2.0, Iris-virginica\n",
            "5.8, 2.8, 5.1, 2.4, Iris-virginica\n",
            "6.4, 3.2, 5.3, 2.3, Iris-virginica\n",
            "6.5, 3.0, 5.5, 1.8, Iris-virginica\n",
            "7.7, 3.8, 6.7, 2.2, Iris-virginica\n",
            "7.7, 2.6, 6.9, 2.3, Iris-virginica\n",
            "6.0, 2.2, 5.0, 1.5, Iris-virginica\n",
            "6.9, 3.2, 5.7, 2.3, Iris-virginica\n",
            "5.6, 2.8, 4.9, 2.0, Iris-virginica\n",
            "7.7, 2.8, 6.7, 2.0, Iris-virginica\n",
            "6.3, 2.7, 4.9, 1.8, Iris-virginica\n",
            "6.7, 3.3, 5.7, 2.1, Iris-virginica\n",
            "7.2, 3.2, 6.0, 1.8, Iris-virginica\n",
            "6.2, 2.8, 4.8, 1.8, Iris-virginica\n",
            "6.1, 3.0, 4.9, 1.8, Iris-virginica\n",
            "6.4, 2.8, 5.6, 2.1, Iris-virginica\n",
            "7.2, 3.0, 5.8, 1.6, Iris-virginica\n",
            "7.4, 2.8, 6.1, 1.9, Iris-virginica\n",
            "7.9, 3.8, 6.4, 2.0, Iris-virginica\n",
            "6.4, 2.8, 5.6, 2.2, Iris-virginica\n",
            "6.3, 2.8, 5.1, 1.5, Iris-virginica\n",
            "6.1, 2.6, 5.6, 1.4, Iris-virginica\n",
            "7.7, 3.0, 6.1, 2.3, Iris-virginica\n",
            "6.3, 3.4, 5.6, 2.4, Iris-virginica\n",
            "6.4, 3.1, 5.5, 1.8, Iris-virginica\n",
            "6.0, 3.0, 4.8, 1.8, Iris-virginica\n",
            "6.9, 3.1, 5.4, 2.1, Iris-virginica\n",
            "6.7, 3.1, 5.6, 2.4, Iris-virginica\n",
            "6.9, 3.1, 5.1, 2.3, Iris-virginica\n",
            "5.8, 2.7, 5.1, 1.9, Iris-virginica\n",
            "6.8, 3.2, 5.9, 2.3, Iris-virginica\n",
            "6.7, 3.3, 5.7, 2.5, Iris-virginica\n",
            "6.7, 3.0, 5.2, 2.3, Iris-virginica\n",
            "6.3, 2.5, 5.0, 1.9, Iris-virginica\n",
            "6.5, 3.0, 5.2, 2.0, Iris-virginica\n",
            "6.2, 3.4, 5.4, 2.3, Iris-virginica\n",
            "5.9, 3.0, 5.1, 1.8, Iris-virginica\n"
          ]
        }
      ],
      "source": [
        "#replace with the text file path\n",
        "#make sure that it ends with the extension .txt\n",
        "with open(r\"/content/iris.data.txt\", 'r') as csvfile:\n",
        "\n",
        "    lines = csv.reader(csvfile, delimiter=',')\n",
        "   \n",
        "    for row in lines :\n",
        "\n",
        "        print (', '.join(row))"
      ]
    },
    {
      "cell_type": "code",
      "source": [
        ""
      ],
      "metadata": {
        "id": "s73FOKNIBYpD"
      },
      "execution_count": null,
      "outputs": []
    },
    {
      "cell_type": "markdown",
      "metadata": {
        "id": "3wzEQk8k8BFl"
      },
      "source": [
        "Next we need to split the data into a training dataset.\n",
        "\n",
        "We defined the following function to perform both :\n",
        "1.   reading data\n",
        "2.   splitting data into train and test"
      ]
    },
    {
      "cell_type": "markdown",
      "metadata": {
        "id": "nQS-237mUJ99"
      },
      "source": [
        "\n",
        "\n",
        "**Your Task :**\n",
        "\n",
        "Replace the #CODE HERE with your code to complete the function.\n",
        "\n",
        "**hint** : make sure the if is in the same level as the second for.\n"
      ]
    },
    {
      "cell_type": "code",
      "execution_count": 7,
      "metadata": {
        "id": "rJ6pnlbPUHob"
      },
      "outputs": [],
      "source": [
        "def loadDataset(filename, split, trainingSet=[] , testSet=[]):\n",
        "\n",
        "  #reading a text file\n",
        "  with open(filename, 'r') as csvfile:\n",
        "    \n",
        "    lines = csv.reader(csvfile) \n",
        "\n",
        "    #put the file in a list of lists\n",
        "    #each sublist is a line!\n",
        "    dataset = list(lines) \n",
        "\n",
        "    #iterate over all rows\n",
        "    for x in range(len(dataset)-1): \n",
        "      #iterate iver the 4 first numeric columns\n",
        "      for y in range(4):\n",
        "        \n",
        "        #convert the measures from string to float\n",
        "        dataset[x][y] = float(dataset[x][y])\n",
        "      \n",
        "      #append the rows to a list for trainingSet\n",
        "      #random.random returns a float between 0 and 1 suppose it is 0.\n",
        "      if random.random() < split: \n",
        "        trainingSet.append(dataset[x])\n",
        "      ##append the rows to a list for testSet\n",
        "      else: \n",
        "        testSet.append(dataset[x])\n"
      ]
    },
    {
      "cell_type": "markdown",
      "metadata": {
        "id": "WPDMO8ES8Hln"
      },
      "source": [
        "![knn split.jpg](data:image/jpeg;base64,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)"
      ]
    },
    {
      "cell_type": "markdown",
      "metadata": {
        "id": "ITi9GEKmVXWK"
      },
      "source": [
        "We can test this function out with our iris dataset, as follows:\n"
      ]
    },
    {
      "cell_type": "code",
      "execution_count": 17,
      "metadata": {
        "id": "gzK9p7IyVWc_",
        "colab": {
          "base_uri": "https://localhost:8080/"
        },
        "outputId": "4da8088b-1448-461b-ea9a-1b34696e7a81"
      },
      "outputs": [
        {
          "output_type": "stream",
          "name": "stdout",
          "text": [
            "Train: 101\n",
            "Test: 48\n"
          ]
        }
      ],
      "source": [
        "trainingSet=[]\n",
        "\n",
        "testSet=[]\n",
        "\n",
        "loadDataset('/content/iris.data.txt', 0.66, trainingSet, testSet)\n",
        "\n",
        "print ('Train: ' + repr(len(trainingSet)))\n",
        "\n",
        "print ('Test: ' + repr(len(testSet)) )"
      ]
    },
    {
      "cell_type": "markdown",
      "metadata": {
        "id": "BM28DL2IWCZ0"
      },
      "source": [
        "# 2.Similarity\n",
        "\n",
        "- To make predictions we need to calculate the **similarity** between any two given data instances. This is needed so that we can locate the k most similar data instances in the training dataset for a given member of the test dataset and in turn, make a prediction.\n",
        "\n",
        "- Given that all four flower measurements are numeric and have the same units, we can directly use the **Euclidean distance measure.**\n",
        "\n",
        "- Additionally, we want to control which fields to include in the distance calculation. Specifically, we only want to include the first 4 attributes. One approach is to limit the Euclidean distance to a fixed length, ignoring the final dimension.\n",
        "\n",
        "Putting all of this together, you have to define the euclidean distance\n",
        "\n",
        "\n",
        "**hint** \n",
        "**You can use the math.sqrt and pow**"
      ]
    },
    {
      "cell_type": "markdown",
      "metadata": {
        "id": "zUtLQuy-ZfYu"
      },
      "source": [
        "<img src='https://www.saedsayad.com/images/KNN_similarity.png'>"
      ]
    },
    {
      "cell_type": "code",
      "execution_count": 21,
      "metadata": {
        "id": "vSoU5nVBVnOg"
      },
      "outputs": [],
      "source": [
        "#use math.sqrt and pow\n",
        "def euclideanDistance(instance1, instance2, length):\n",
        "\tdistance = 0\n",
        "\tfor x in range(length):\n",
        "\t\tdistance += pow((instance1[x] - instance2[x]), 2)\n",
        "\treturn math.sqrt(distance)"
      ]
    },
    {
      "cell_type": "markdown",
      "metadata": {
        "id": "bfIpg6xaXCT0"
      },
      "source": [
        "We can test this function with some sample data, as follows:\n"
      ]
    },
    {
      "cell_type": "code",
      "execution_count": 22,
      "metadata": {
        "id": "_dRqEuBPWxDt",
        "colab": {
          "base_uri": "https://localhost:8080/"
        },
        "outputId": "7a823aa0-3541-4551-d649-8bd351301e6d"
      },
      "outputs": [
        {
          "output_type": "stream",
          "name": "stdout",
          "text": [
            "Distance 1: 4.0\n",
            "Distance 2: 14.0\n"
          ]
        }
      ],
      "source": [
        "data1 = [2, 2, 2, 2]\n",
        "data2 = [4, 4, 4, 4]\n",
        "data3 = [9, 9, 9, 9]\n",
        "\n",
        "distance1 = euclideanDistance(data1, data2, 4)\n",
        "distance2 = euclideanDistance(data1, data3, 4)\n",
        "\n",
        "print ('Distance 1: ' + repr(distance1))\n",
        "print ('Distance 2: ' + repr(distance2))"
      ]
    },
    {
      "cell_type": "markdown",
      "metadata": {
        "id": "kDJEPCw6aEAG"
      },
      "source": [
        "# 3.Neighbors \n",
        "\n",
        "Now that we have a similarity measure, we can use it to collect the k most similar instances for a given unseen instance.\n",
        "\n",
        "This is a straightforward process of calculating the distance for all instances and selecting a subset with the smallest distance values.\n",
        "\n",
        "Below is the getNeighbors function that returns k most similar neighbors from the training set for a given test instance (using the already defined euclideanDistance function)"
      ]
    },
    {
      "cell_type": "code",
      "execution_count": 23,
      "metadata": {
        "id": "T1zP07dyaDyL"
      },
      "outputs": [],
      "source": [
        "import operator\n",
        "\n",
        "def getNeighbors(trainingSet, testInstance, k):\n",
        "  \n",
        "  distances = []\n",
        "  #lenght is the number of numeric features\n",
        "  length = len(testInstance)-1\n",
        "\n",
        "  for x in range(len(trainingSet)):\n",
        "\n",
        "    dist = euclideanDistance(testInstance, trainingSet[x], length)\n",
        "\n",
        "    distances.append((trainingSet[x], dist))\n",
        "\n",
        "    distances.sort(key=operator.itemgetter(1))\n",
        "\n",
        "    neighbors = []\n",
        "\n",
        "  for x in range(k):\n",
        "\n",
        "    neighbors.append(distances[x][0])\n",
        "\n",
        "  return neighbors"
      ]
    },
    {
      "cell_type": "markdown",
      "metadata": {
        "id": "5OSnYkcaaSN3"
      },
      "source": [
        "We can test out this function as follows:\n"
      ]
    },
    {
      "cell_type": "code",
      "execution_count": 24,
      "metadata": {
        "id": "hpUba8PCZWS2",
        "colab": {
          "base_uri": "https://localhost:8080/"
        },
        "outputId": "c0ebb702-89cd-4492-9e5c-65120f02edbf"
      },
      "outputs": [
        {
          "output_type": "stream",
          "name": "stdout",
          "text": [
            "[[4, 4, 4, 'b']]\n"
          ]
        }
      ],
      "source": [
        "trainSet = [[2, 2, 2, 'a'], [4, 4, 4, 'b']]\n",
        "\n",
        "testInstance = [5, 5, 5]\n",
        "\n",
        "#k= number of neighbors\n",
        "k = 1\n",
        "\n",
        "neighbors = getNeighbors(trainSet, testInstance, 1)\n",
        "\n",
        "print(neighbors)"
      ]
    },
    {
      "cell_type": "markdown",
      "metadata": {
        "id": "CGwrQZ6naw0P"
      },
      "source": [
        "# 4.  Response\n",
        "\n",
        "Once we have located the most similar neighbors for a test instance, the next task is to devise a predicted response based on those neighbors.\n",
        "\n",
        "We can do this by allowing each neighbor to vote for their class attribute, and take the majority vote as the prediction.\n",
        "\n",
        "Below provides a function for getting the majority voted response from a number of neighbors. It assumes the class is the last attribute for each neighbor."
      ]
    },
    {
      "cell_type": "code",
      "execution_count": 25,
      "metadata": {
        "id": "rFftGvzhbHPP"
      },
      "outputs": [],
      "source": [
        "import operator\n",
        "\n",
        "def getResponse(neighbors):\n",
        "  #create a dictionnary containing {class : number of votes}\n",
        "  classVotes = {}\n",
        "\n",
        "  for x in range(len(neighbors)):\n",
        "\n",
        "    #extract the class \n",
        "    response = neighbors[x][-1] #complete with appropriate number\n",
        "\n",
        "    #increment the number of votes if the class is already in classVotes\n",
        "    if response in classVotes:\n",
        "      classVotes[response] += 1\n",
        "    \n",
        "    #else just intiliaze the class with 1 \n",
        "    else :\n",
        "      classVotes[response] = 1\n",
        "      #sort the values of classvotes\n",
        "  sortedVotes = sorted(classVotes.items(), key=operator.itemgetter(1), reverse=True)\n",
        "      \n",
        "  #return dictionnary and the class with the highest votes (sortedVotes[0][0])\n",
        "  return classVotes,sortedVotes[0][0]\n"
      ]
    },
    {
      "cell_type": "markdown",
      "metadata": {
        "id": "-fchHaeibXRN"
      },
      "source": [
        "We can test out this function with some test neighbors, as follows:\n"
      ]
    },
    {
      "cell_type": "code",
      "execution_count": 26,
      "metadata": {
        "colab": {
          "base_uri": "https://localhost:8080/"
        },
        "id": "hu6hG5xibYP0",
        "outputId": "f0dca137-d965-462b-9125-364c20baa0f6"
      },
      "outputs": [
        {
          "output_type": "stream",
          "name": "stdout",
          "text": [
            "classVotes :  {'a': 2, 'b': 1}\n",
            "response : a\n"
          ]
        }
      ],
      "source": [
        "neighbors = [[1,1,1,'a'], [2,2,2,'a'], [3,3,3,'b']]\n",
        "\n",
        "classVotes,response = getResponse(neighbors)\n",
        "\n",
        "print('classVotes : ',classVotes)\n",
        "print('response :',response)"
      ]
    },
    {
      "cell_type": "markdown",
      "metadata": {
        "id": "RukHboeKbH5h"
      },
      "source": [
        "This approach returns one response in the case of a draw, but you could handle such cases in a specific way, such as returning no response or selecting an unbiased random response.\n"
      ]
    },
    {
      "cell_type": "markdown",
      "metadata": {
        "id": "_AR0WOLqbtoQ"
      },
      "source": [
        "# 5. Accuracy\n",
        "\n",
        "We have all of the pieces of the kNN algorithm in place. An important remaining concern is how to evaluate the accuracy of predictions.\n",
        "\n",
        "An easy way to evaluate the accuracy of the model is to calculate a ratio of the total correct predictions out of all predictions made, called the classification accuracy.\n",
        "\n",
        "Below is the getAccuracy function that sums the total correct predictions and returns the accuracy as a percentage of correct classifications."
      ]
    },
    {
      "cell_type": "code",
      "execution_count": 43,
      "metadata": {
        "id": "Rk1OktG0bIfF"
      },
      "outputs": [],
      "source": [
        "def getAccuracy(testSet, predictions):\n",
        "  correct = 0\n",
        "  for x in range(len(testSet)):\n",
        "      if testSet[x][-1] == predictions[x][-1]:\n",
        "        correct+=1\n",
        "\n",
        "  return (correct/float(len(testSet))) * 100.0"
      ]
    },
    {
      "cell_type": "code",
      "execution_count": 27,
      "metadata": {
        "id": "-_EC1tuP5JSN"
      },
      "outputs": [],
      "source": [
        ""
      ]
    },
    {
      "cell_type": "markdown",
      "metadata": {
        "id": "NdOHVb_acIFF"
      },
      "source": [
        "We can test this function with a test dataset and predictions, as follows:\n"
      ]
    },
    {
      "cell_type": "code",
      "execution_count": 31,
      "metadata": {
        "id": "bzx6YLQccHRY"
      },
      "outputs": [],
      "source": [
        "#testSet = [[1,1,1,'a'], [2,2,2,'a'], [3,3,3,'b']]\n",
        "\n",
        "#predictions = ['a', 'a', 'a']\n",
        "\n",
        "#accuracy = getAccuracy(testSet, predictions)\n",
        "\n",
        "#print(accuracy)"
      ]
    },
    {
      "cell_type": "markdown",
      "metadata": {
        "id": "zMLVUnxmcLIX"
      },
      "source": [
        "# 6. Main\n",
        "\n",
        "We now have defined all the functions of the KNN algorithm. Now call them and put them all in one main function \n",
        "\n",
        "Following is a Hello World example of how to create the main function in python : \n",
        "\n",
        "\n",
        "```\n",
        "def main():\n",
        "    print(\"Hello World!\")\n",
        "\n",
        "if __name__ == \"__main__\":\n",
        "    main()\n",
        "\n",
        "```\n",
        "\n"
      ]
    },
    {
      "cell_type": "code",
      "execution_count": 44,
      "metadata": {
        "id": "bhuV6Rwu1Q-g",
        "colab": {
          "base_uri": "https://localhost:8080/"
        },
        "outputId": "87e79098-9199-4d9e-eace-bb5979175da2"
      },
      "outputs": [
        {
          "output_type": "stream",
          "name": "stdout",
          "text": [
            "> predicted=({'Iris-setosa': 5}, 'Iris-setosa'), actual='Iris-setosa'\n",
            "> predicted=({'Iris-setosa': 5}, 'Iris-setosa'), actual='Iris-setosa'\n",
            "> predicted=({'Iris-setosa': 5}, 'Iris-setosa'), actual='Iris-setosa'\n",
            "> predicted=({'Iris-setosa': 5}, 'Iris-setosa'), actual='Iris-setosa'\n",
            "> predicted=({'Iris-setosa': 5}, 'Iris-setosa'), actual='Iris-setosa'\n",
            "> predicted=({'Iris-setosa': 5}, 'Iris-setosa'), actual='Iris-setosa'\n",
            "> predicted=({'Iris-setosa': 5}, 'Iris-setosa'), actual='Iris-setosa'\n",
            "> predicted=({'Iris-setosa': 5}, 'Iris-setosa'), actual='Iris-setosa'\n",
            "> predicted=({'Iris-setosa': 5}, 'Iris-setosa'), actual='Iris-setosa'\n",
            "> predicted=({'Iris-setosa': 5}, 'Iris-setosa'), actual='Iris-setosa'\n",
            "> predicted=({'Iris-setosa': 5}, 'Iris-setosa'), actual='Iris-setosa'\n",
            "> predicted=({'Iris-setosa': 5}, 'Iris-setosa'), actual='Iris-setosa'\n",
            "> predicted=({'Iris-setosa': 5}, 'Iris-setosa'), actual='Iris-setosa'\n",
            "> predicted=({'Iris-setosa': 5}, 'Iris-setosa'), actual='Iris-setosa'\n",
            "> predicted=({'Iris-setosa': 5}, 'Iris-setosa'), actual='Iris-setosa'\n",
            "> predicted=({'Iris-setosa': 5}, 'Iris-setosa'), actual='Iris-setosa'\n",
            "> predicted=({'Iris-setosa': 5}, 'Iris-setosa'), actual='Iris-setosa'\n",
            "> predicted=({'Iris-setosa': 5}, 'Iris-setosa'), actual='Iris-setosa'\n",
            "> predicted=({'Iris-setosa': 5}, 'Iris-setosa'), actual='Iris-setosa'\n",
            "> predicted=({'Iris-setosa': 5}, 'Iris-setosa'), actual='Iris-setosa'\n",
            "> predicted=({'Iris-setosa': 5}, 'Iris-setosa'), actual='Iris-setosa'\n",
            "> predicted=({'Iris-versicolor': 5}, 'Iris-versicolor'), actual='Iris-versicolor'\n",
            "> predicted=({'Iris-versicolor': 5}, 'Iris-versicolor'), actual='Iris-versicolor'\n",
            "> predicted=({'Iris-versicolor': 5}, 'Iris-versicolor'), actual='Iris-versicolor'\n",
            "> predicted=({'Iris-versicolor': 5}, 'Iris-versicolor'), actual='Iris-versicolor'\n",
            "> predicted=({'Iris-versicolor': 5}, 'Iris-versicolor'), actual='Iris-versicolor'\n",
            "> predicted=({'Iris-versicolor': 5}, 'Iris-versicolor'), actual='Iris-versicolor'\n",
            "> predicted=({'Iris-versicolor': 3, 'Iris-virginica': 2}, 'Iris-versicolor'), actual='Iris-versicolor'\n",
            "> predicted=({'Iris-versicolor': 5}, 'Iris-versicolor'), actual='Iris-versicolor'\n",
            "> predicted=({'Iris-versicolor': 4, 'Iris-virginica': 1}, 'Iris-versicolor'), actual='Iris-versicolor'\n",
            "> predicted=({'Iris-versicolor': 1, 'Iris-virginica': 4}, 'Iris-virginica'), actual='Iris-versicolor'\n",
            "> predicted=({'Iris-versicolor': 5}, 'Iris-versicolor'), actual='Iris-versicolor'\n",
            "> predicted=({'Iris-versicolor': 5}, 'Iris-versicolor'), actual='Iris-versicolor'\n",
            "> predicted=({'Iris-versicolor': 5}, 'Iris-versicolor'), actual='Iris-versicolor'\n",
            "> predicted=({'Iris-versicolor': 5}, 'Iris-versicolor'), actual='Iris-versicolor'\n",
            "> predicted=({'Iris-virginica': 4, 'Iris-versicolor': 1}, 'Iris-virginica'), actual='Iris-versicolor'\n",
            "> predicted=({'Iris-versicolor': 5}, 'Iris-versicolor'), actual='Iris-versicolor'\n",
            "> predicted=({'Iris-versicolor': 5}, 'Iris-versicolor'), actual='Iris-versicolor'\n",
            "> predicted=({'Iris-versicolor': 5}, 'Iris-versicolor'), actual='Iris-versicolor'\n",
            "> predicted=({'Iris-versicolor': 5}, 'Iris-versicolor'), actual='Iris-versicolor'\n",
            "> predicted=({'Iris-versicolor': 5}, 'Iris-versicolor'), actual='Iris-versicolor'\n",
            "> predicted=({'Iris-versicolor': 5}, 'Iris-versicolor'), actual='Iris-versicolor'\n",
            "> predicted=({'Iris-versicolor': 5}, 'Iris-versicolor'), actual='Iris-versicolor'\n",
            "> predicted=({'Iris-versicolor': 5}, 'Iris-versicolor'), actual='Iris-versicolor'\n",
            "> predicted=({'Iris-virginica': 5}, 'Iris-virginica'), actual='Iris-virginica'\n",
            "> predicted=({'Iris-virginica': 5}, 'Iris-virginica'), actual='Iris-virginica'\n",
            "> predicted=({'Iris-virginica': 5}, 'Iris-virginica'), actual='Iris-virginica'\n",
            "> predicted=({'Iris-virginica': 5}, 'Iris-virginica'), actual='Iris-virginica'\n",
            "> predicted=({'Iris-virginica': 5}, 'Iris-virginica'), actual='Iris-virginica'\n",
            "> predicted=({'Iris-virginica': 5}, 'Iris-virginica'), actual='Iris-virginica'\n",
            "> predicted=({'Iris-virginica': 5}, 'Iris-virginica'), actual='Iris-virginica'\n",
            "> predicted=({'Iris-versicolor': 2, 'Iris-virginica': 3}, 'Iris-virginica'), actual='Iris-virginica'\n",
            "> predicted=({'Iris-virginica': 5}, 'Iris-virginica'), actual='Iris-virginica'\n",
            "> predicted=({'Iris-virginica': 5}, 'Iris-virginica'), actual='Iris-virginica'\n",
            "> predicted=({'Iris-virginica': 5}, 'Iris-virginica'), actual='Iris-virginica'\n",
            "> predicted=({'Iris-virginica': 5}, 'Iris-virginica'), actual='Iris-virginica'\n",
            "> predicted=({'Iris-virginica': 5}, 'Iris-virginica'), actual='Iris-virginica'\n",
            "> predicted=({'Iris-virginica': 5}, 'Iris-virginica'), actual='Iris-virginica'\n",
            "> predicted=({'Iris-virginica': 5}, 'Iris-virginica'), actual='Iris-virginica'\n",
            "> predicted=({'Iris-virginica': 5}, 'Iris-virginica'), actual='Iris-virginica'\n",
            "> predicted=({'Iris-virginica': 5}, 'Iris-virginica'), actual='Iris-virginica'\n",
            "96.72131147540983\n",
            "[[5.1, 3.5, 1.4, 0.2, 'Iris-setosa'], [4.7, 3.2, 1.3, 0.2, 'Iris-setosa'], [4.6, 3.1, 1.5, 0.2, 'Iris-setosa'], [5.0, 3.6, 1.4, 0.2, 'Iris-setosa'], [5.4, 3.9, 1.7, 0.4, 'Iris-setosa'], [4.6, 3.4, 1.4, 0.3, 'Iris-setosa'], [4.4, 2.9, 1.4, 0.2, 'Iris-setosa'], [5.8, 4.0, 1.2, 0.2, 'Iris-setosa'], [5.4, 3.4, 1.7, 0.2, 'Iris-setosa'], [4.6, 3.6, 1.0, 0.2, 'Iris-setosa'], [5.1, 3.3, 1.7, 0.5, 'Iris-setosa'], [5.0, 3.0, 1.6, 0.2, 'Iris-setosa'], [5.0, 3.4, 1.6, 0.4, 'Iris-setosa'], [5.2, 3.4, 1.4, 0.2, 'Iris-setosa'], [4.9, 3.1, 1.5, 0.1, 'Iris-setosa'], [4.4, 3.0, 1.3, 0.2, 'Iris-setosa'], [5.1, 3.4, 1.5, 0.2, 'Iris-setosa'], [4.4, 3.2, 1.3, 0.2, 'Iris-setosa'], [4.8, 3.0, 1.4, 0.3, 'Iris-setosa'], [4.6, 3.2, 1.4, 0.2, 'Iris-setosa'], [5.0, 3.3, 1.4, 0.2, 'Iris-setosa'], [7.0, 3.2, 4.7, 1.4, 'Iris-versicolor'], [4.9, 2.4, 3.3, 1.0, 'Iris-versicolor'], [6.6, 2.9, 4.6, 1.3, 'Iris-versicolor'], [5.2, 2.7, 3.9, 1.4, 'Iris-versicolor'], [5.0, 2.0, 3.5, 1.0, 'Iris-versicolor'], [6.0, 2.2, 4.0, 1.0, 'Iris-versicolor'], [6.1, 2.9, 4.7, 1.4, 'Iris-versicolor'], [6.4, 2.9, 4.3, 1.3, 'Iris-versicolor'], [6.8, 2.8, 4.8, 1.4, 'Iris-versicolor'], [6.7, 3.0, 5.0, 1.7, 'Iris-versicolor'], [6.0, 2.9, 4.5, 1.5, 'Iris-versicolor'], [5.7, 2.6, 3.5, 1.0, 'Iris-versicolor'], [5.5, 2.4, 3.8, 1.1, 'Iris-versicolor'], [5.8, 2.7, 3.9, 1.2, 'Iris-versicolor'], [6.0, 2.7, 5.1, 1.6, 'Iris-versicolor'], [5.4, 3.0, 4.5, 1.5, 'Iris-versicolor'], [6.7, 3.1, 4.7, 1.5, 'Iris-versicolor'], [6.3, 2.3, 4.4, 1.3, 'Iris-versicolor'], [5.6, 3.0, 4.1, 1.3, 'Iris-versicolor'], [5.5, 2.6, 4.4, 1.2, 'Iris-versicolor'], [5.8, 2.6, 4.0, 1.2, 'Iris-versicolor'], [5.0, 2.3, 3.3, 1.0, 'Iris-versicolor'], [6.2, 2.9, 4.3, 1.3, 'Iris-versicolor'], [5.8, 2.7, 5.1, 1.9, 'Iris-virginica'], [6.3, 2.9, 5.6, 1.8, 'Iris-virginica'], [6.5, 3.0, 5.8, 2.2, 'Iris-virginica'], [5.8, 2.8, 5.1, 2.4, 'Iris-virginica'], [6.5, 3.0, 5.5, 1.8, 'Iris-virginica'], [7.7, 3.8, 6.7, 2.2, 'Iris-virginica'], [7.7, 2.6, 6.9, 2.3, 'Iris-virginica'], [6.0, 2.2, 5.0, 1.5, 'Iris-virginica'], [6.4, 2.8, 5.6, 2.1, 'Iris-virginica'], [7.2, 3.0, 5.8, 1.6, 'Iris-virginica'], [7.4, 2.8, 6.1, 1.9, 'Iris-virginica'], [6.4, 2.8, 5.6, 2.2, 'Iris-virginica'], [6.3, 3.4, 5.6, 2.4, 'Iris-virginica'], [6.4, 3.1, 5.5, 1.8, 'Iris-virginica'], [6.9, 3.1, 5.4, 2.1, 'Iris-virginica'], [6.7, 3.0, 5.2, 2.3, 'Iris-virginica'], [6.2, 3.4, 5.4, 2.3, 'Iris-virginica']]\n",
            "[({'Iris-setosa': 5}, 'Iris-setosa'), ({'Iris-setosa': 5}, 'Iris-setosa'), ({'Iris-setosa': 5}, 'Iris-setosa'), ({'Iris-setosa': 5}, 'Iris-setosa'), ({'Iris-setosa': 5}, 'Iris-setosa'), ({'Iris-setosa': 5}, 'Iris-setosa'), ({'Iris-setosa': 5}, 'Iris-setosa'), ({'Iris-setosa': 5}, 'Iris-setosa'), ({'Iris-setosa': 5}, 'Iris-setosa'), ({'Iris-setosa': 5}, 'Iris-setosa'), ({'Iris-setosa': 5}, 'Iris-setosa'), ({'Iris-setosa': 5}, 'Iris-setosa'), ({'Iris-setosa': 5}, 'Iris-setosa'), ({'Iris-setosa': 5}, 'Iris-setosa'), ({'Iris-setosa': 5}, 'Iris-setosa'), ({'Iris-setosa': 5}, 'Iris-setosa'), ({'Iris-setosa': 5}, 'Iris-setosa'), ({'Iris-setosa': 5}, 'Iris-setosa'), ({'Iris-setosa': 5}, 'Iris-setosa'), ({'Iris-setosa': 5}, 'Iris-setosa'), ({'Iris-setosa': 5}, 'Iris-setosa'), ({'Iris-versicolor': 5}, 'Iris-versicolor'), ({'Iris-versicolor': 5}, 'Iris-versicolor'), ({'Iris-versicolor': 5}, 'Iris-versicolor'), ({'Iris-versicolor': 5}, 'Iris-versicolor'), ({'Iris-versicolor': 5}, 'Iris-versicolor'), ({'Iris-versicolor': 5}, 'Iris-versicolor'), ({'Iris-versicolor': 3, 'Iris-virginica': 2}, 'Iris-versicolor'), ({'Iris-versicolor': 5}, 'Iris-versicolor'), ({'Iris-versicolor': 4, 'Iris-virginica': 1}, 'Iris-versicolor'), ({'Iris-versicolor': 1, 'Iris-virginica': 4}, 'Iris-virginica'), ({'Iris-versicolor': 5}, 'Iris-versicolor'), ({'Iris-versicolor': 5}, 'Iris-versicolor'), ({'Iris-versicolor': 5}, 'Iris-versicolor'), ({'Iris-versicolor': 5}, 'Iris-versicolor'), ({'Iris-virginica': 4, 'Iris-versicolor': 1}, 'Iris-virginica'), ({'Iris-versicolor': 5}, 'Iris-versicolor'), ({'Iris-versicolor': 5}, 'Iris-versicolor'), ({'Iris-versicolor': 5}, 'Iris-versicolor'), ({'Iris-versicolor': 5}, 'Iris-versicolor'), ({'Iris-versicolor': 5}, 'Iris-versicolor'), ({'Iris-versicolor': 5}, 'Iris-versicolor'), ({'Iris-versicolor': 5}, 'Iris-versicolor'), ({'Iris-versicolor': 5}, 'Iris-versicolor'), ({'Iris-virginica': 5}, 'Iris-virginica'), ({'Iris-virginica': 5}, 'Iris-virginica'), ({'Iris-virginica': 5}, 'Iris-virginica'), ({'Iris-virginica': 5}, 'Iris-virginica'), ({'Iris-virginica': 5}, 'Iris-virginica'), ({'Iris-virginica': 5}, 'Iris-virginica'), ({'Iris-virginica': 5}, 'Iris-virginica'), ({'Iris-versicolor': 2, 'Iris-virginica': 3}, 'Iris-virginica'), ({'Iris-virginica': 5}, 'Iris-virginica'), ({'Iris-virginica': 5}, 'Iris-virginica'), ({'Iris-virginica': 5}, 'Iris-virginica'), ({'Iris-virginica': 5}, 'Iris-virginica'), ({'Iris-virginica': 5}, 'Iris-virginica'), ({'Iris-virginica': 5}, 'Iris-virginica'), ({'Iris-virginica': 5}, 'Iris-virginica'), ({'Iris-virginica': 5}, 'Iris-virginica'), ({'Iris-virginica': 5}, 'Iris-virginica')]\n"
          ]
        }
      ],
      "source": [
        "  def main():\n",
        "      #initialize trainSet , testSet , k  and predictions\n",
        "      #CODE HERE\n",
        "      trainingSet=[]\n",
        "      testSet=[]\n",
        "      split = 0.67\n",
        "      k=5\n",
        "      predictions=[]\n",
        "      #call the loaddatest function\n",
        "      loadDataset('/content/iris.data.txt', split, trainingSet, testSet)\n",
        "\n",
        "      for x in range(len(testSet)):\n",
        "        #get neighbors\n",
        "          neighbors = getNeighbors(trainingSet, testSet[x], k)\n",
        "          #get response\n",
        "          result = getResponse(neighbors)\n",
        "          #append each result in predictions\n",
        "          predictions.append(result)\n",
        "          print('> predicted=' + repr(result) + ', actual=' + repr(testSet[x][-1]))\n",
        "      accuracy = getAccuracy(testSet, predictions)\n",
        "      print(accuracy)\n",
        "      print(testSet)\n",
        "      print(predictions)\n",
        "  main()"
      ]
    },
    {
      "cell_type": "markdown",
      "metadata": {
        "id": "3jPEXxFqdEcC"
      },
      "source": [
        "# 7. Another distance metric\n",
        "\n",
        " In this part, you are asked to define another distance metric instead of euclidean distance\n"
      ]
    },
    {
      "cell_type": "markdown",
      "metadata": {
        "id": "PhS_AHzxeT9R"
      },
      "source": [
        "<img src='https://www.saedsayad.com/images/KNN_similarity.png'>"
      ]
    },
    {
      "cell_type": "code",
      "execution_count": null,
      "metadata": {
        "id": "R_k1HSO7sr4W"
      },
      "outputs": [],
      "source": [
        ""
      ]
    }
  ],
  "metadata": {
    "colab": {
      "collapsed_sections": [],
      "name": "KNN_Checkpoint_tasks_by_ahlem.ipynb",
      "provenance": []
    },
    "kernelspec": {
      "display_name": "Python 3 (ipykernel)",
      "language": "python",
      "name": "python3"
    },
    "language_info": {
      "codemirror_mode": {
        "name": "ipython",
        "version": 3
      },
      "file_extension": ".py",
      "mimetype": "text/x-python",
      "name": "python",
      "nbconvert_exporter": "python",
      "pygments_lexer": "ipython3",
      "version": "3.9.7"
    }
  },
  "nbformat": 4,
  "nbformat_minor": 0
}